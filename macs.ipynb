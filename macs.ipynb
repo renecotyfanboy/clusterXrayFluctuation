{
 "cells": [
  {
   "cell_type": "code",
   "outputs": [],
   "source": [
    "import numpyro\n",
    "\n",
    "numpyro.enable_x64()\n",
    "numpyro.set_host_device_count(4)"
   ],
   "metadata": {
    "collapsed": false,
    "ExecuteTime": {
     "end_time": "2024-05-07T16:10:46.394684Z",
     "start_time": "2024-05-07T16:10:44.823399Z"
    }
   },
   "id": "30c50f96b1a93180",
   "execution_count": 1
  },
  {
   "cell_type": "code",
   "execution_count": 2,
   "id": "initial_id",
   "metadata": {
    "collapsed": true,
    "ExecuteTime": {
     "end_time": "2024-05-07T16:10:50.291571Z",
     "start_time": "2024-05-07T16:10:46.397066Z"
    }
   },
   "outputs": [
    {
     "name": "stderr",
     "output_type": "stream",
     "text": [
      "WARNING: FITSFixedWarning: RADECSYS= 'FK5 ' / Stellar reference frame \n",
      "the RADECSYS keyword is deprecated, use RADESYSa. [astropy.wcs.wcs]\n",
      "WARNING: FITSFixedWarning: EQUINOX = '2000.0 ' / Coordinate system equinox \n",
      "a floating-point value was expected. [astropy.wcs.wcs]\n"
     ]
    }
   ],
   "source": [
    "import astropy.units as u\n",
    "from xsb_fluc.data.cluster import Cluster\n",
    "\n",
    "cluster = Cluster(\n",
    "    imglink='MACSJ0717.5+3745/epic-obj-im-700-1200.fits.gz',\n",
    "    explink='MACSJ0717.5+3745/epic-exp-im-700-1200.fits.gz',\n",
    "    bkglink='MACSJ0717.5+3745/epic-back-tot-sp-700-1200.fits.gz',\n",
    "    reglink='MACSJ0717.5+3745/srclist_MACSJ0717.5+3745_ib.reg',\n",
    "    nhlink='MACSJ0717.5+3745/macs_j0717_nh.fits',\n",
    "    ra=109.402083,\n",
    "    dec=37.756389,\n",
    "    r_500=1.5*u.Mpc, \n",
    "    redshift=0.5458,\n",
    ")\n",
    "\n",
    "cluster_voronoi = cluster.voronoi('MACSJ0717.5+3745/voronoi.txt', exclusion=2, rebin_factor=3, t_500_percent=2)"
   ]
  },
  {
   "cell_type": "code",
   "outputs": [],
   "source": [
    "import haiku as hk\n",
    "from xsb_fluc.simulation.mock_image import MockXrayCountsBetaModel\n"
   ],
   "metadata": {
    "collapsed": false,
    "ExecuteTime": {
     "end_time": "2024-05-07T16:10:50.718995Z",
     "start_time": "2024-05-07T16:10:50.294808Z"
    }
   },
   "id": "cdae2d87b33905ff",
   "execution_count": 3
  },
  {
   "cell_type": "code",
   "outputs": [
    {
     "name": "stdout",
     "output_type": "stream",
     "text": [
      "{'multiple_beta_model/~/mock_xray_counts_beta_model/~/ellipse_radius': {'angle': Array(0., dtype=float32), 'eccentricity': Array(0., dtype=float32), 'x_c': Array(0., dtype=float32), 'y_c': Array(0., dtype=float32)}, 'multiple_beta_model/~/mock_xray_counts_beta_model/~/xray_surface_brightness_beta_model': {'log_bkg': Array(-5., dtype=float32), 'log_e_0': Array(-4., dtype=float32), 'log_r_c': Array(-1., dtype=float32), 'beta': Array(0.6666667, dtype=float32)}, 'multiple_beta_model/~/mock_xray_counts_beta_model_1/~/ellipse_radius': {'angle': Array(0., dtype=float32), 'eccentricity': Array(0., dtype=float32), 'x_c': Array(0., dtype=float32), 'y_c': Array(0., dtype=float32)}, 'multiple_beta_model/~/mock_xray_counts_beta_model_1/~/xray_surface_brightness_beta_model': {'log_bkg': Array(-5., dtype=float32), 'log_e_0': Array(-4., dtype=float32), 'log_r_c': Array(-1., dtype=float32), 'beta': Array(0.6666667, dtype=float32)}}\n"
     ]
    }
   ],
   "source": [
    "import jax.numpy as jnp\n",
    "import haiku as hk \n",
    "\n",
    "class MultipleBetaModel(hk.Module):\n",
    "    \n",
    "    def __init__(self, cluster, n_components):\n",
    "                \n",
    "        super(MultipleBetaModel, self).__init__()\n",
    "        self.models = [MockXrayCountsBetaModel(cluster) for _ in range(n_components)]\n",
    "     \n",
    "    def __call__(self):\n",
    "     \n",
    "        return jnp.sum(jnp.stack([model() for model in self.models]), axis=0)\n",
    "        \n",
    "images_simulator = hk.without_apply_rng(hk.transform(lambda : MultipleBetaModel(cluster_voronoi, 2)()))\n",
    "print(images_simulator.init(None))"
   ],
   "metadata": {
    "collapsed": false,
    "ExecuteTime": {
     "end_time": "2024-05-07T16:12:52.944540Z",
     "start_time": "2024-05-07T16:12:51.898298Z"
    }
   },
   "id": "8aad61376366a51",
   "execution_count": 5
  },
  {
   "cell_type": "code",
   "outputs": [],
   "source": [
    "import numpyro\n",
    "import numpyro.distributions as dist\n",
    "import jax.numpy as jnp \n",
    "\n",
    "prior_distributions = {\n",
    "    'multiple_beta_model/~/mock_xray_counts_beta_model/~/ellipse_radius': {\n",
    "        'angle': dist.Uniform(0., jnp.pi/2),\n",
    "        'eccentricity': dist.Uniform(0, 0.99),\n",
    "        'x_c': dist.Normal(0, 1),\n",
    "        'y_c': dist.Normal(0, 1)\n",
    "    },\n",
    "    'multiple_beta_model/~/mock_xray_counts_beta_model/~/xray_surface_brightness_beta_model': {\n",
    "        'log_bkg': jnp.asarray(-100.),\n",
    "        'log_e_0': dist.Uniform(-9, -3),\n",
    "        'log_r_c': dist.Uniform(-3, 0),\n",
    "        'beta': dist.Uniform(0, 5)\n",
    "    },\n",
    "        'multiple_beta_model/~/mock_xray_counts_beta_model_1/~/ellipse_radius': {\n",
    "        'angle': dist.Uniform(0., jnp.pi/2),\n",
    "        'eccentricity': dist.Uniform(0, 0.99),\n",
    "        'x_c': dist.Normal(-0.4, 0.1),\n",
    "        'y_c': dist.Normal(-0.4, 0.1)\n",
    "    },\n",
    "    'multiple_beta_model/~/mock_xray_counts_beta_model_1/~/xray_surface_brightness_beta_model': {\n",
    "        'log_bkg': jnp.asarray(-100.),\n",
    "        'log_e_0': dist.Uniform(-9, -3),\n",
    "        'log_r_c': dist.Uniform(-3, 0),\n",
    "        'beta': dist.Uniform(0, 5)\n",
    "    }\n",
    "}\n",
    "\n",
    "def numpyro_model(observed_cluster=None):\n",
    "    \n",
    "    # Here, we inform numpyro that we want to draw the parameters from prior distributions\n",
    "    samples = hk.data_structures.to_haiku_dict(prior_distributions)\n",
    "    \n",
    "    for module, parameter, prior in hk.data_structures.traverse(prior_distributions):\n",
    "        \n",
    "        samples[module][parameter] = numpyro.sample(module + '_' + parameter, prior) if isinstance(prior, dist.Distribution) else prior\n",
    "    \n",
    "    # We compute the expected values using the samples from prior distribution\n",
    "    images_simulator = hk.without_apply_rng(hk.transform(lambda : MultipleBetaModel(observed_cluster, 2)()))\n",
    "    expected_counts = images_simulator.apply(samples)\n",
    "    \n",
    "    # We compare it to the actually observed counts in each pixel\n",
    "    numpyro.sample('likelihood', dist.Poisson(expected_counts), obs=observed_cluster.img)"
   ],
   "metadata": {
    "collapsed": false,
    "ExecuteTime": {
     "end_time": "2024-05-07T16:33:30.349827Z",
     "start_time": "2024-05-07T16:33:30.340301Z"
    }
   },
   "id": "32f810f5fea49214",
   "execution_count": 19
  },
  {
   "cell_type": "code",
   "outputs": [
    {
     "data": {
      "text/plain": "  0%|          | 0/11000 [00:00<?, ?it/s]",
      "application/vnd.jupyter.widget-view+json": {
       "version_major": 2,
       "version_minor": 0,
       "model_id": "164e483f4a494898b06be041cda8dcdb"
      }
     },
     "metadata": {},
     "output_type": "display_data"
    },
    {
     "data": {
      "text/plain": "  0%|          | 0/11000 [00:00<?, ?it/s]",
      "application/vnd.jupyter.widget-view+json": {
       "version_major": 2,
       "version_minor": 0,
       "model_id": "2a1187fac4f448eeb21d86f877eb8336"
      }
     },
     "metadata": {},
     "output_type": "display_data"
    },
    {
     "data": {
      "text/plain": "  0%|          | 0/11000 [00:00<?, ?it/s]",
      "application/vnd.jupyter.widget-view+json": {
       "version_major": 2,
       "version_minor": 0,
       "model_id": "d1b7770f9e5b4bb686f7775f82a3630a"
      }
     },
     "metadata": {},
     "output_type": "display_data"
    },
    {
     "data": {
      "text/plain": "  0%|          | 0/11000 [00:00<?, ?it/s]",
      "application/vnd.jupyter.widget-view+json": {
       "version_major": 2,
       "version_minor": 0,
       "model_id": "5992f3697a9d4e539bf144f4c9044948"
      }
     },
     "metadata": {},
     "output_type": "display_data"
    }
   ],
   "source": [
    "from jax.random import PRNGKey\n",
    "from numpyro.infer import MCMC, NUTS\n",
    "\n",
    "kernel = NUTS(numpyro_model, max_tree_depth=10)\n",
    "mcmc = MCMC(kernel, num_chains=4, num_warmup=10000, num_samples=1000)\n",
    "\n",
    "mcmc.run(PRNGKey(10), observed_cluster=cluster_voronoi)"
   ],
   "metadata": {
    "collapsed": false,
    "is_executing": true,
    "ExecuteTime": {
     "start_time": "2024-05-07T16:33:30.712953Z"
    }
   },
   "id": "a87e134858a184ae",
   "execution_count": null
  },
  {
   "cell_type": "code",
   "outputs": [],
   "source": [
    "import arviz as az \n",
    "import matplotlib.pyplot as plt \n",
    "\n",
    "inference_data = az.from_numpyro(mcmc)\n",
    "az.summary(inference_data)"
   ],
   "metadata": {
    "collapsed": false,
    "is_executing": true
   },
   "id": "982947cb173e2101",
   "execution_count": null
  },
  {
   "cell_type": "code",
   "outputs": [],
   "source": [
    "with az.style.context(\"arviz-darkgrid\", after_reset=True):\n",
    "    az.plot_trace(inference_data, compact=False)\n",
    "\n",
    "plt.show();"
   ],
   "metadata": {
    "collapsed": false,
    "is_executing": true
   },
   "id": "5ab59a1164f55a57",
   "execution_count": null
  },
  {
   "cell_type": "code",
   "outputs": [],
   "source": [
    "import json\n",
    "import numpy as np\n",
    "from jax.tree_util import tree_map\n",
    "\n",
    "posterior_parameters = tree_map(lambda x: jnp.median(x), mcmc.get_samples())\n",
    "\n",
    "hk_posterior_parameters = hk.data_structures.to_haiku_dict(prior_distributions)\n",
    "\n",
    "for module, parameter, prior in hk.data_structures.traverse(prior_distributions):\n",
    "    \n",
    "    #print(module+'_'+parameter)\n",
    "    if isinstance(hk_posterior_parameters[module][parameter], dist.Distribution):\n",
    "        hk_posterior_parameters[module][parameter] = posterior_parameters[module + '_' + parameter]"
   ],
   "metadata": {
    "collapsed": false,
    "is_executing": true
   },
   "id": "34a21534f7bcf38d",
   "execution_count": null
  },
  {
   "cell_type": "code",
   "outputs": [],
   "source": [
    "import cmasher as cmr\n",
    "import numpy as np\n",
    "from matplotlib.colors import LogNorm, SymLogNorm\n",
    "\n",
    "cluster_to_plot = cluster.reduce_to_r500(1.5)\n",
    "\n",
    "images_simulator_full = hk.without_apply_rng(hk.transform(lambda : MultipleBetaModel(cluster_to_plot, 2)()))\n",
    "best_fit_image = images_simulator_full.apply(hk_posterior_parameters)"
   ],
   "metadata": {
    "collapsed": false,
    "is_executing": true
   },
   "id": "8399cbfdfb757f5f",
   "execution_count": null
  },
  {
   "cell_type": "code",
   "outputs": [],
   "source": [
    "fig, axs = plt.subplots(\n",
    "    figsize=(12, 5),\n",
    "    nrows=1,\n",
    "    ncols=3,\n",
    "    subplot_kw={'projection': cluster.wcs}\n",
    ")\n",
    "\n",
    "mask = cluster_to_plot.exp > 0\n",
    "xsb_fluc = (cluster_to_plot.img - best_fit_image)/(2*cluster_to_plot.exp)\n",
    "img_norm = LogNorm(vmin=0.5, vmax=200)\n",
    "\n",
    "map_img = axs[0].imshow(np.where(mask, cluster_to_plot.img, np.nan), norm=img_norm, cmap=cmr.cosmic)\n",
    "map_fit = axs[1].imshow(np.where(mask, best_fit_image, np.nan), norm=img_norm, cmap=cmr.cosmic)\n",
    "map_fluc = axs[2].imshow(np.where(mask, xsb_fluc, np.nan), cmr.guppy, norm=SymLogNorm(vmin=-1e-6, vmax=1e-6, linthresh=1e-8))\n",
    "\n",
    "plt.colorbar(map_img, ax=axs[0], location='bottom', label='Counts (True image)')\n",
    "plt.colorbar(map_fit, ax=axs[1], location='bottom', label='Counts (Fitted image)')\n",
    "plt.colorbar(map_fluc, ax=axs[2], location='bottom', label='Fluctuations')\n",
    "\n",
    "plt.show();"
   ],
   "metadata": {
    "collapsed": false,
    "is_executing": true
   },
   "id": "cadb4d2f2b93247c",
   "execution_count": null
  }
 ],
 "metadata": {
  "kernelspec": {
   "display_name": "Python 3",
   "language": "python",
   "name": "python3"
  },
  "language_info": {
   "codemirror_mode": {
    "name": "ipython",
    "version": 2
   },
   "file_extension": ".py",
   "mimetype": "text/x-python",
   "name": "python",
   "nbconvert_exporter": "python",
   "pygments_lexer": "ipython2",
   "version": "2.7.6"
  }
 },
 "nbformat": 4,
 "nbformat_minor": 5
}
